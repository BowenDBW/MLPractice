{
 "metadata": {
  "kernelspec": {
   "name": "python3",
   "display_name": "Python 3 (ipykernel)",
   "language": "python"
  }
 },
 "nbformat": 4,
 "nbformat_minor": 4,
 "cells": [
  {
   "cell_type": "code",
   "execution_count": 327,
   "metadata": {
    "ExecuteTime": {
     "end_time": "2023-07-14T04:00:18.281387100Z",
     "start_time": "2023-07-14T04:00:18.254577Z"
    }
   },
   "outputs": [],
   "source": [
    "import numpy as np\n",
    "import pandas as pd\n",
    "import matplotlib.pyplot as plt\n",
    "import seaborn as sns"
   ]
  },
  {
   "cell_type": "code",
   "execution_count": 328,
   "metadata": {
    "ExecuteTime": {
     "end_time": "2023-07-14T04:00:18.313394500Z",
     "start_time": "2023-07-14T04:00:18.271239800Z"
    }
   },
   "outputs": [],
   "source": [
    "# Read in the file\n",
    "data = pd.read_csv(\"Fish.csv\")"
   ]
  },
  {
   "cell_type": "code",
   "execution_count": 329,
   "metadata": {
    "ExecuteTime": {
     "end_time": "2023-07-14T04:00:18.313394500Z",
     "start_time": "2023-07-14T04:00:18.293474600Z"
    }
   },
   "outputs": [
    {
     "data": {
      "text/plain": "    Species  Weight  Length1  Length2  Length3   Height   Width\n0     Bream   242.0     23.2     25.4     30.0  11.5200  4.0200\n1     Bream   290.0     24.0     26.3     31.2  12.4800  4.3056\n2     Bream   340.0     23.9     26.5     31.1  12.3778  4.6961\n3     Bream   363.0     26.3     29.0     33.5  12.7300  4.4555\n4     Bream   430.0     26.5     29.0     34.0  12.4440  5.1340\n..      ...     ...      ...      ...      ...      ...     ...\n154   Smelt    12.2     11.5     12.2     13.4   2.0904  1.3936\n155   Smelt    13.4     11.7     12.4     13.5   2.4300  1.2690\n156   Smelt    12.2     12.1     13.0     13.8   2.2770  1.2558\n157   Smelt    19.7     13.2     14.3     15.2   2.8728  2.0672\n158   Smelt    19.9     13.8     15.0     16.2   2.9322  1.8792\n\n[159 rows x 7 columns]",
      "text/html": "<div>\n<style scoped>\n    .dataframe tbody tr th:only-of-type {\n        vertical-align: middle;\n    }\n\n    .dataframe tbody tr th {\n        vertical-align: top;\n    }\n\n    .dataframe thead th {\n        text-align: right;\n    }\n</style>\n<table border=\"1\" class=\"dataframe\">\n  <thead>\n    <tr style=\"text-align: right;\">\n      <th></th>\n      <th>Species</th>\n      <th>Weight</th>\n      <th>Length1</th>\n      <th>Length2</th>\n      <th>Length3</th>\n      <th>Height</th>\n      <th>Width</th>\n    </tr>\n  </thead>\n  <tbody>\n    <tr>\n      <th>0</th>\n      <td>Bream</td>\n      <td>242.0</td>\n      <td>23.2</td>\n      <td>25.4</td>\n      <td>30.0</td>\n      <td>11.5200</td>\n      <td>4.0200</td>\n    </tr>\n    <tr>\n      <th>1</th>\n      <td>Bream</td>\n      <td>290.0</td>\n      <td>24.0</td>\n      <td>26.3</td>\n      <td>31.2</td>\n      <td>12.4800</td>\n      <td>4.3056</td>\n    </tr>\n    <tr>\n      <th>2</th>\n      <td>Bream</td>\n      <td>340.0</td>\n      <td>23.9</td>\n      <td>26.5</td>\n      <td>31.1</td>\n      <td>12.3778</td>\n      <td>4.6961</td>\n    </tr>\n    <tr>\n      <th>3</th>\n      <td>Bream</td>\n      <td>363.0</td>\n      <td>26.3</td>\n      <td>29.0</td>\n      <td>33.5</td>\n      <td>12.7300</td>\n      <td>4.4555</td>\n    </tr>\n    <tr>\n      <th>4</th>\n      <td>Bream</td>\n      <td>430.0</td>\n      <td>26.5</td>\n      <td>29.0</td>\n      <td>34.0</td>\n      <td>12.4440</td>\n      <td>5.1340</td>\n    </tr>\n    <tr>\n      <th>...</th>\n      <td>...</td>\n      <td>...</td>\n      <td>...</td>\n      <td>...</td>\n      <td>...</td>\n      <td>...</td>\n      <td>...</td>\n    </tr>\n    <tr>\n      <th>154</th>\n      <td>Smelt</td>\n      <td>12.2</td>\n      <td>11.5</td>\n      <td>12.2</td>\n      <td>13.4</td>\n      <td>2.0904</td>\n      <td>1.3936</td>\n    </tr>\n    <tr>\n      <th>155</th>\n      <td>Smelt</td>\n      <td>13.4</td>\n      <td>11.7</td>\n      <td>12.4</td>\n      <td>13.5</td>\n      <td>2.4300</td>\n      <td>1.2690</td>\n    </tr>\n    <tr>\n      <th>156</th>\n      <td>Smelt</td>\n      <td>12.2</td>\n      <td>12.1</td>\n      <td>13.0</td>\n      <td>13.8</td>\n      <td>2.2770</td>\n      <td>1.2558</td>\n    </tr>\n    <tr>\n      <th>157</th>\n      <td>Smelt</td>\n      <td>19.7</td>\n      <td>13.2</td>\n      <td>14.3</td>\n      <td>15.2</td>\n      <td>2.8728</td>\n      <td>2.0672</td>\n    </tr>\n    <tr>\n      <th>158</th>\n      <td>Smelt</td>\n      <td>19.9</td>\n      <td>13.8</td>\n      <td>15.0</td>\n      <td>16.2</td>\n      <td>2.9322</td>\n      <td>1.8792</td>\n    </tr>\n  </tbody>\n</table>\n<p>159 rows × 7 columns</p>\n</div>"
     },
     "execution_count": 329,
     "metadata": {},
     "output_type": "execute_result"
    }
   ],
   "source": [
    "# Take a look at the counts of different species\n",
    "data"
   ]
  },
  {
   "cell_type": "code",
   "execution_count": 330,
   "metadata": {
    "scrolled": true,
    "ExecuteTime": {
     "end_time": "2023-07-14T04:00:18.359893100Z",
     "start_time": "2023-07-14T04:00:18.302859200Z"
    }
   },
   "outputs": [],
   "source": [
    "# Observe the correlation using seaborn pairplot\n",
    "#fig = sns.pairplot(data)\n",
    "#fig.savefig(\"./pair_plot.png\", dpi = 1000)"
   ]
  },
  {
   "cell_type": "code",
   "execution_count": 331,
   "metadata": {
    "ExecuteTime": {
     "end_time": "2023-07-14T04:00:18.422586200Z",
     "start_time": "2023-07-14T04:00:18.319392600Z"
    }
   },
   "outputs": [
    {
     "data": {
      "text/plain": "    Species  Weight  Length1  Length2  Length3   Height   Width  SpeciesCode\n0     Bream   242.0     23.2     25.4     30.0  11.5200  4.0200            4\n1     Bream   290.0     24.0     26.3     31.2  12.4800  4.3056            4\n2     Bream   340.0     23.9     26.5     31.1  12.3778  4.6961            4\n3     Bream   363.0     26.3     29.0     33.5  12.7300  4.4555            4\n4     Bream   430.0     26.5     29.0     34.0  12.4440  5.1340            4\n..      ...     ...      ...      ...      ...      ...     ...          ...\n154   Smelt    12.2     11.5     12.2     13.4   2.0904  1.3936           28\n155   Smelt    13.4     11.7     12.4     13.5   2.4300  1.2690           28\n156   Smelt    12.2     12.1     13.0     13.8   2.2770  1.2558           28\n157   Smelt    19.7     13.2     14.3     15.2   2.8728  2.0672           28\n158   Smelt    19.9     13.8     15.0     16.2   2.9322  1.8792           28\n\n[159 rows x 8 columns]",
      "text/html": "<div>\n<style scoped>\n    .dataframe tbody tr th:only-of-type {\n        vertical-align: middle;\n    }\n\n    .dataframe tbody tr th {\n        vertical-align: top;\n    }\n\n    .dataframe thead th {\n        text-align: right;\n    }\n</style>\n<table border=\"1\" class=\"dataframe\">\n  <thead>\n    <tr style=\"text-align: right;\">\n      <th></th>\n      <th>Species</th>\n      <th>Weight</th>\n      <th>Length1</th>\n      <th>Length2</th>\n      <th>Length3</th>\n      <th>Height</th>\n      <th>Width</th>\n      <th>SpeciesCode</th>\n    </tr>\n  </thead>\n  <tbody>\n    <tr>\n      <th>0</th>\n      <td>Bream</td>\n      <td>242.0</td>\n      <td>23.2</td>\n      <td>25.4</td>\n      <td>30.0</td>\n      <td>11.5200</td>\n      <td>4.0200</td>\n      <td>4</td>\n    </tr>\n    <tr>\n      <th>1</th>\n      <td>Bream</td>\n      <td>290.0</td>\n      <td>24.0</td>\n      <td>26.3</td>\n      <td>31.2</td>\n      <td>12.4800</td>\n      <td>4.3056</td>\n      <td>4</td>\n    </tr>\n    <tr>\n      <th>2</th>\n      <td>Bream</td>\n      <td>340.0</td>\n      <td>23.9</td>\n      <td>26.5</td>\n      <td>31.1</td>\n      <td>12.3778</td>\n      <td>4.6961</td>\n      <td>4</td>\n    </tr>\n    <tr>\n      <th>3</th>\n      <td>Bream</td>\n      <td>363.0</td>\n      <td>26.3</td>\n      <td>29.0</td>\n      <td>33.5</td>\n      <td>12.7300</td>\n      <td>4.4555</td>\n      <td>4</td>\n    </tr>\n    <tr>\n      <th>4</th>\n      <td>Bream</td>\n      <td>430.0</td>\n      <td>26.5</td>\n      <td>29.0</td>\n      <td>34.0</td>\n      <td>12.4440</td>\n      <td>5.1340</td>\n      <td>4</td>\n    </tr>\n    <tr>\n      <th>...</th>\n      <td>...</td>\n      <td>...</td>\n      <td>...</td>\n      <td>...</td>\n      <td>...</td>\n      <td>...</td>\n      <td>...</td>\n      <td>...</td>\n    </tr>\n    <tr>\n      <th>154</th>\n      <td>Smelt</td>\n      <td>12.2</td>\n      <td>11.5</td>\n      <td>12.2</td>\n      <td>13.4</td>\n      <td>2.0904</td>\n      <td>1.3936</td>\n      <td>28</td>\n    </tr>\n    <tr>\n      <th>155</th>\n      <td>Smelt</td>\n      <td>13.4</td>\n      <td>11.7</td>\n      <td>12.4</td>\n      <td>13.5</td>\n      <td>2.4300</td>\n      <td>1.2690</td>\n      <td>28</td>\n    </tr>\n    <tr>\n      <th>156</th>\n      <td>Smelt</td>\n      <td>12.2</td>\n      <td>12.1</td>\n      <td>13.0</td>\n      <td>13.8</td>\n      <td>2.2770</td>\n      <td>1.2558</td>\n      <td>28</td>\n    </tr>\n    <tr>\n      <th>157</th>\n      <td>Smelt</td>\n      <td>19.7</td>\n      <td>13.2</td>\n      <td>14.3</td>\n      <td>15.2</td>\n      <td>2.8728</td>\n      <td>2.0672</td>\n      <td>28</td>\n    </tr>\n    <tr>\n      <th>158</th>\n      <td>Smelt</td>\n      <td>19.9</td>\n      <td>13.8</td>\n      <td>15.0</td>\n      <td>16.2</td>\n      <td>2.9322</td>\n      <td>1.8792</td>\n      <td>28</td>\n    </tr>\n  </tbody>\n</table>\n<p>159 rows × 8 columns</p>\n</div>"
     },
     "execution_count": 331,
     "metadata": {},
     "output_type": "execute_result"
    }
   ],
   "source": [
    "# We will make use of the species for regression\n",
    "# by one-hot encoding.\n",
    "# Bream: 001, Roach: 010, Whitefish: 011, Parkki: 100, Perch: 101, Pike: 110, Smelt: 111\n",
    "types = {\n",
    "    \"Bream\": 0b00100,\n",
    "    \"Roach\": 0b01000,\n",
    "    \"Whitefish\": 0b01100,\n",
    "    \"Parkki\": 0b10000,\n",
    "    \"Perch\": 0b10000,\n",
    "    \"Pike\": 0b11000,\n",
    "    \"Smelt\": 0b11100,\n",
    "}\n",
    "types = {\n",
    "    \"Bream\": 0,\n",
    "    \"Roach\": 1,\n",
    "    \"Whitefish\": 2,\n",
    "    \"Parkki\": 3,\n",
    "    \"Perch\": 4,\n",
    "    \"Pike\": 5,\n",
    "    \"Smelt\": 6,\n",
    "}\n",
    "\n",
    "def get_type(name):\n",
    "    return types.get(name, \"Invalid Season\")\n",
    "\n",
    "s_type = []\n",
    "\n",
    "for index, row in data.iterrows():\n",
    "    species = row['Species']\n",
    "    s_type.append(get_type(species))\n",
    "\n",
    "data['SpeciesCode'] = s_type\n",
    "\n",
    "data"
   ]
  },
  {
   "cell_type": "code",
   "execution_count": 332,
   "metadata": {
    "ExecuteTime": {
     "end_time": "2023-07-14T04:00:18.422586200Z",
     "start_time": "2023-07-14T04:00:18.349385600Z"
    }
   },
   "outputs": [],
   "source": [
    "# Read in the random train/test split we did for you.\n",
    "import pickle as pkl\n",
    "with open('experiments.pkl', 'rb') as f:\n",
    "    indices = pkl.load(f)\n",
    "# train/test split with first 80% indices as training sample"
   ]
  },
  {
   "cell_type": "code",
   "execution_count": 333,
   "metadata": {
    "ExecuteTime": {
     "end_time": "2023-07-14T04:00:18.611309100Z",
     "start_time": "2023-07-14T04:00:18.364854400Z"
    }
   },
   "outputs": [
    {
     "data": {
      "text/plain": "       Species  Weight  Length1  Length2  Length3   Height   Width  \\\n42       Roach   120.0     19.4     21.0     23.7   6.1146  3.2943   \n26       Bream   720.0     32.0     35.0     40.6  16.3618  6.0900   \n39       Roach   120.0     18.6     20.0     22.2   6.2160  3.5742   \n139       Pike   770.0     44.8     48.0     51.2   7.6800  5.3760   \n143       Pike  1550.0     56.0     60.0     64.0   9.6000  6.1440   \n..         ...     ...      ...      ...      ...      ...     ...   \n25       Bream   725.0     31.8     35.0     40.9  16.3600  6.0532   \n3        Bream   363.0     26.3     29.0     33.5  12.7300  4.4555   \n122      Perch   820.0     37.1     40.0     42.5  11.1350  6.6300   \n56   Whitefish   270.0     24.1     26.5     29.3   8.1454  4.2485   \n45       Roach   160.0     20.5     22.5     25.3   7.0334  3.8203   \n\n     SpeciesCode  Index  \n42             8      0  \n26             4      1  \n39             8      2  \n139           24      3  \n143           24      4  \n..           ...    ...  \n25             4    122  \n3              4    123  \n122           16    124  \n56            12    125  \n45             8    126  \n\n[127 rows x 9 columns]",
      "text/html": "<div>\n<style scoped>\n    .dataframe tbody tr th:only-of-type {\n        vertical-align: middle;\n    }\n\n    .dataframe tbody tr th {\n        vertical-align: top;\n    }\n\n    .dataframe thead th {\n        text-align: right;\n    }\n</style>\n<table border=\"1\" class=\"dataframe\">\n  <thead>\n    <tr style=\"text-align: right;\">\n      <th></th>\n      <th>Species</th>\n      <th>Weight</th>\n      <th>Length1</th>\n      <th>Length2</th>\n      <th>Length3</th>\n      <th>Height</th>\n      <th>Width</th>\n      <th>SpeciesCode</th>\n      <th>Index</th>\n    </tr>\n  </thead>\n  <tbody>\n    <tr>\n      <th>42</th>\n      <td>Roach</td>\n      <td>120.0</td>\n      <td>19.4</td>\n      <td>21.0</td>\n      <td>23.7</td>\n      <td>6.1146</td>\n      <td>3.2943</td>\n      <td>8</td>\n      <td>0</td>\n    </tr>\n    <tr>\n      <th>26</th>\n      <td>Bream</td>\n      <td>720.0</td>\n      <td>32.0</td>\n      <td>35.0</td>\n      <td>40.6</td>\n      <td>16.3618</td>\n      <td>6.0900</td>\n      <td>4</td>\n      <td>1</td>\n    </tr>\n    <tr>\n      <th>39</th>\n      <td>Roach</td>\n      <td>120.0</td>\n      <td>18.6</td>\n      <td>20.0</td>\n      <td>22.2</td>\n      <td>6.2160</td>\n      <td>3.5742</td>\n      <td>8</td>\n      <td>2</td>\n    </tr>\n    <tr>\n      <th>139</th>\n      <td>Pike</td>\n      <td>770.0</td>\n      <td>44.8</td>\n      <td>48.0</td>\n      <td>51.2</td>\n      <td>7.6800</td>\n      <td>5.3760</td>\n      <td>24</td>\n      <td>3</td>\n    </tr>\n    <tr>\n      <th>143</th>\n      <td>Pike</td>\n      <td>1550.0</td>\n      <td>56.0</td>\n      <td>60.0</td>\n      <td>64.0</td>\n      <td>9.6000</td>\n      <td>6.1440</td>\n      <td>24</td>\n      <td>4</td>\n    </tr>\n    <tr>\n      <th>...</th>\n      <td>...</td>\n      <td>...</td>\n      <td>...</td>\n      <td>...</td>\n      <td>...</td>\n      <td>...</td>\n      <td>...</td>\n      <td>...</td>\n      <td>...</td>\n    </tr>\n    <tr>\n      <th>25</th>\n      <td>Bream</td>\n      <td>725.0</td>\n      <td>31.8</td>\n      <td>35.0</td>\n      <td>40.9</td>\n      <td>16.3600</td>\n      <td>6.0532</td>\n      <td>4</td>\n      <td>122</td>\n    </tr>\n    <tr>\n      <th>3</th>\n      <td>Bream</td>\n      <td>363.0</td>\n      <td>26.3</td>\n      <td>29.0</td>\n      <td>33.5</td>\n      <td>12.7300</td>\n      <td>4.4555</td>\n      <td>4</td>\n      <td>123</td>\n    </tr>\n    <tr>\n      <th>122</th>\n      <td>Perch</td>\n      <td>820.0</td>\n      <td>37.1</td>\n      <td>40.0</td>\n      <td>42.5</td>\n      <td>11.1350</td>\n      <td>6.6300</td>\n      <td>16</td>\n      <td>124</td>\n    </tr>\n    <tr>\n      <th>56</th>\n      <td>Whitefish</td>\n      <td>270.0</td>\n      <td>24.1</td>\n      <td>26.5</td>\n      <td>29.3</td>\n      <td>8.1454</td>\n      <td>4.2485</td>\n      <td>12</td>\n      <td>125</td>\n    </tr>\n    <tr>\n      <th>45</th>\n      <td>Roach</td>\n      <td>160.0</td>\n      <td>20.5</td>\n      <td>22.5</td>\n      <td>25.3</td>\n      <td>7.0334</td>\n      <td>3.8203</td>\n      <td>8</td>\n      <td>126</td>\n    </tr>\n  </tbody>\n</table>\n<p>127 rows × 9 columns</p>\n</div>"
     },
     "execution_count": 333,
     "metadata": {},
     "output_type": "execute_result"
    }
   ],
   "source": [
    "# use the rest of the features to predict the Weight of the fish\n",
    "data['Index'] = indices\n",
    "data = data.sort_values(\"Index\", ascending=True)\n",
    "train_count = round(data.shape[0] * 0.8)\n",
    "test_count = data.shape[0] - train_count\n",
    "train_set = data.head(train_count)\n",
    "test_set = data.tail(test_count)\n",
    "train_set"
   ]
  },
  {
   "cell_type": "code",
   "execution_count": 334,
   "metadata": {
    "ExecuteTime": {
     "end_time": "2023-07-14T04:00:18.611309100Z",
     "start_time": "2023-07-14T04:00:18.397518Z"
    }
   },
   "outputs": [
    {
     "name": "stdout",
     "output_type": "stream",
     "text": [
      "       Species  Weight   Length1   Length2   Length3    Height     Width  \\\n",
      "42       Roach   120.0 -0.669864 -0.676812 -0.636856 -0.655727 -0.638593   \n",
      "26       Bream   720.0  0.538474  0.574355  0.758778  1.659945  0.974855   \n",
      "39       Roach   120.0 -0.746584 -0.766181 -0.760729 -0.632812 -0.477057   \n",
      "139       Pike   770.0  1.765991  1.736153  1.634146 -0.301976  0.562793   \n",
      "143       Pike  1550.0  2.840069  2.808581  2.691193  0.131907  1.006020   \n",
      "..         ...     ...       ...       ...       ...       ...       ...   \n",
      "25       Bream   725.0  0.519294  0.574355  0.783552  1.659538  0.953617   \n",
      "3        Bream   363.0 -0.008155  0.038140  0.172447  0.839227  0.031557   \n",
      "122      Perch   820.0  1.027563  1.021200  0.915683  0.478788  1.286499   \n",
      "56   Whitefish   270.0 -0.219135 -0.185282 -0.174397 -0.196805 -0.087907   \n",
      "45       Roach   160.0 -0.564374 -0.542759 -0.504725 -0.448096 -0.335029   \n",
      "\n",
      "     SpeciesCode  Index  \n",
      "42             8      0  \n",
      "26             4      1  \n",
      "39             8      2  \n",
      "139           24      3  \n",
      "143           24      4  \n",
      "..           ...    ...  \n",
      "25             4    122  \n",
      "3              4    123  \n",
      "122           16    124  \n",
      "56            12    125  \n",
      "45             8    126  \n",
      "\n",
      "[127 rows x 9 columns]\n",
      "       Species  Weight  Length1  Length2  Length3   Height   Width  \\\n",
      "42       Roach   120.0     19.4     21.0     23.7   6.1146  3.2943   \n",
      "26       Bream   720.0     32.0     35.0     40.6  16.3618  6.0900   \n",
      "39       Roach   120.0     18.6     20.0     22.2   6.2160  3.5742   \n",
      "139       Pike   770.0     44.8     48.0     51.2   7.6800  5.3760   \n",
      "143       Pike  1550.0     56.0     60.0     64.0   9.6000  6.1440   \n",
      "..         ...     ...      ...      ...      ...      ...     ...   \n",
      "25       Bream   725.0     31.8     35.0     40.9  16.3600  6.0532   \n",
      "3        Bream   363.0     26.3     29.0     33.5  12.7300  4.4555   \n",
      "122      Perch   820.0     37.1     40.0     42.5  11.1350  6.6300   \n",
      "56   Whitefish   270.0     24.1     26.5     29.3   8.1454  4.2485   \n",
      "45       Roach   160.0     20.5     22.5     25.3   7.0334  3.8203   \n",
      "\n",
      "     SpeciesCode  Index  \n",
      "42             8      0  \n",
      "26             4      1  \n",
      "39             8      2  \n",
      "139           24      3  \n",
      "143           24      4  \n",
      "..           ...    ...  \n",
      "25             4    122  \n",
      "3              4    123  \n",
      "122           16    124  \n",
      "56            12    125  \n",
      "45             8    126  \n",
      "\n",
      "[127 rows x 9 columns]\n"
     ]
    }
   ],
   "source": [
    "# standardize the data using the training set\n",
    "# no sklearn method allowed here\n",
    "\n",
    "import copy\n",
    "\n",
    "train_mean = []\n",
    "train_std = []\n",
    "# col_names = [\"Length1\", \"Length2\", \"Length3\", \"Height\", \"Width\", \"SpeciesCode\"]\n",
    "col_names = [\"Length1\", \"Length2\", \"Length3\", \"Height\", \"Width\"]\n",
    "\n",
    "\n",
    "def get_mean_and_std(col):\n",
    "    mean = col.mean(axis=0)\n",
    "    std = col.std(axis=0)\n",
    "    return mean, std\n",
    "\n",
    "def standardize_col(col, mean, std):\n",
    "    standardized_col = []\n",
    "    for cell in col:\n",
    "        standardized_col.append((cell - mean) / std)\n",
    "    return standardized_col\n",
    "\n",
    "\n",
    "def standardize_sets(trains, tests):\n",
    "    for col_name in col_names:\n",
    "        mean, std = get_mean_and_std(trains[col_name])\n",
    "        trains[col_name] = standardize_col(trains[col_name], mean, std)\n",
    "        tests[col_name] = standardize_col(tests[col_name], mean, std)\n",
    "\n",
    "\n",
    "standardized_train_set = copy.deepcopy(train_set)\n",
    "standardized_test_set = copy.deepcopy(test_set)\n",
    "standardize_sets(standardized_train_set, standardized_test_set)\n",
    "\n",
    "print(standardized_train_set)\n",
    "print(train_set)"
   ]
  },
  {
   "cell_type": "code",
   "execution_count": 335,
   "metadata": {
    "scrolled": true,
    "ExecuteTime": {
     "end_time": "2023-07-14T04:00:18.930794700Z",
     "start_time": "2023-07-14T04:00:18.432872400Z"
    }
   },
   "outputs": [
    {
     "name": "stdout",
     "output_type": "stream",
     "text": [
      "loss for standardized train_set is: \n",
      "14842.877511737306\n",
      "loss for standardized test_set is: \n",
      "14522.561541809704\n"
     ]
    }
   ],
   "source": [
    "# use the linear_regression model to solve this problem\n",
    "# from linear_regression import LinearReg\n",
    "class LinearReg(object):\n",
    "    def __init__(self, indim=1, outdim=1):\n",
    "        # initialize the parameters first.\n",
    "        self.W = np.zeros(shape=(indim+1, outdim))\n",
    "\n",
    "    def fit(self, X, T):\n",
    "        # implement the .fit() using the simple least-square closed-form solution:\n",
    "        X = np.hstack([X, np.ones(shape=[X.shape[0], 1])])\n",
    "        self.W = np.linalg.inv(X.T@X) @ X.T @ T\n",
    "        # HINT:\n",
    "        #   extend the input features before fitting to it.\n",
    "        #   compute the weight matrix of shape [indim+1, outdim]\n",
    "\n",
    "    def predict(self, X):\n",
    "        # implement the .predict() using the parameters learned by .fit()\n",
    "        X = np.hstack([X, np.ones(shape=[X.shape[0], 1])])\n",
    "        return X @ self.W\n",
    "\n",
    "# create the model\n",
    "model = LinearReg()\n",
    "model2 = LinearReg()\n",
    "\n",
    "std_param = standardized_train_set.iloc[:, 2:7]\n",
    "std_target = standardized_train_set.iloc[:, 1:2]\n",
    "\n",
    "std_test_param = standardized_test_set.iloc[:, 2:7]\n",
    "std_test_target = standardized_test_set.iloc[:, 1:2]\n",
    "\n",
    "# fit the model\n",
    "model.fit(std_param, std_target)\n",
    "# predict\n",
    "predict_std_train = model.predict(std_param)\n",
    "predict_std_test = model.predict(std_test_param)\n",
    "\n",
    "# get_mse_loss(W, std_param, std_target)\n",
    "def get_mse_loss(p, t):\n",
    "    loss_sum = []\n",
    "    p_val = np.array(p).T\n",
    "    t_val = np.array(t).T\n",
    "    for i in range(0, p_val.shape[0]):\n",
    "        loss_sum.append(pow(p_val[i] - t_val[i], 2))\n",
    "    return np.mean(loss_sum)\n",
    "\n",
    "# compute the loss on the training set\n",
    "print(\"loss for standardized train_set is: \")\n",
    "print(get_mse_loss(predict_std_train, std_target))\n",
    "# compute the loss on the test set\n",
    "print(\"loss for standardized test_set is: \")\n",
    "print(get_mse_loss(predict_std_test, std_test_target))\n",
    "# report the losses"
   ]
  },
  {
   "cell_type": "code",
   "execution_count": 336,
   "metadata": {
    "ExecuteTime": {
     "end_time": "2023-07-14T04:00:18.931795200Z",
     "start_time": "2023-07-14T04:00:18.459995500Z"
    }
   },
   "outputs": [],
   "source": [
    "# Bonus: Further Analysis\n",
    "# Can you further analyze the result yielded and make improvement?"
   ]
  },
  {
   "cell_type": "code",
   "execution_count": 336,
   "outputs": [],
   "source": [],
   "metadata": {
    "collapsed": false,
    "ExecuteTime": {
     "end_time": "2023-07-14T04:00:18.931795200Z",
     "start_time": "2023-07-14T04:00:18.474676300Z"
    }
   }
  }
 ]
}
